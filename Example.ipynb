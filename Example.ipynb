{
 "cells": [
  {
   "cell_type": "code",
   "execution_count": 1,
   "id": "44203629-73f8-4a4c-81e8-a6863cbc7fe9",
   "metadata": {},
   "outputs": [],
   "source": [
    "import yfinance as yf"
   ]
  },
  {
   "cell_type": "code",
   "execution_count": 8,
   "id": "2c05b930-4d98-4ca3-9cc3-44bb4fbc64a6",
   "metadata": {},
   "outputs": [
    {
     "data": {
      "text/plain": [
       "{'phone': '+352 42101-1',\n",
       " 'maxAge': 86400,\n",
       " 'priceHint': 2,\n",
       " 'previousClose': 37.685,\n",
       " 'open': 37.875,\n",
       " 'dayLow': 37.825,\n",
       " 'dayHigh': 38.005,\n",
       " 'regularMarketPreviousClose': 37.685,\n",
       " 'regularMarketOpen': 37.875,\n",
       " 'regularMarketDayLow': 37.825,\n",
       " 'regularMarketDayHigh': 38.005,\n",
       " 'trailingPE': 0.25841728,\n",
       " 'volume': 3416,\n",
       " 'regularMarketVolume': 3416,\n",
       " 'averageVolume': 110148,\n",
       " 'averageVolume10days': 69596,\n",
       " 'averageDailyVolume10Day': 69596,\n",
       " 'bid': 37.885,\n",
       " 'ask': 37.91,\n",
       " 'fiftyTwoWeekLow': 28.665,\n",
       " 'fiftyTwoWeekHigh': 38.005,\n",
       " 'fiftyDayAverage': 36.3258,\n",
       " 'twoHundredDayAverage': 33.75421,\n",
       " 'navPrice': 37.7585,\n",
       " 'currency': 'USD',\n",
       " 'ytdReturn': 0.0484652,\n",
       " 'beta3Year': 1.07,\n",
       " 'fundFamily': 'DWS Investment S.A. (ETF)',\n",
       " 'fundInceptionDate': 1599609600,\n",
       " 'legalType': 'Exchange Traded Fund',\n",
       " 'threeYearAverageReturn': 0.076891996,\n",
       " 'fiveYearAverageReturn': 0.1280593,\n",
       " 'exchange': 'LSE',\n",
       " 'quoteType': 'ETF',\n",
       " 'symbol': 'XZW0.L',\n",
       " 'underlyingSymbol': 'XZW0.L',\n",
       " 'shortName': 'XTRACKERS (IE) PUBLIC LIMITED C',\n",
       " 'longName': 'Xtrackers MSCI World ESG UCITS ETF',\n",
       " 'firstTradeDateEpochUtc': 1524553200,\n",
       " 'timeZoneFullName': 'Europe/London',\n",
       " 'timeZoneShortName': 'GMT',\n",
       " 'uuid': 'cffcc2fd-1bae-3306-8077-01703000341f',\n",
       " 'messageBoardId': 'finmb_381293520',\n",
       " 'trailingPegRatio': None}"
      ]
     },
     "execution_count": 8,
     "metadata": {},
     "output_type": "execute_result"
    }
   ],
   "source": [
    "msft = yf.Ticker(\"IE00BZ02LR44\")\n",
    "msft.info"
   ]
  }
 ],
 "metadata": {
  "kernelspec": {
   "display_name": "Python 3 (ipykernel)",
   "language": "python",
   "name": "python3"
  },
  "language_info": {
   "codemirror_mode": {
    "name": "ipython",
    "version": 3
   },
   "file_extension": ".py",
   "mimetype": "text/x-python",
   "name": "python",
   "nbconvert_exporter": "python",
   "pygments_lexer": "ipython3",
   "version": "3.11.6"
  }
 },
 "nbformat": 4,
 "nbformat_minor": 5
}
